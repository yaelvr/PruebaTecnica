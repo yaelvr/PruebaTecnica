{
 "cells": [
  {
   "cell_type": "code",
   "execution_count": 1740,
   "metadata": {},
   "outputs": [
    {
     "data": {
      "text/html": [
       "<div>\n",
       "<style scoped>\n",
       "    .dataframe tbody tr th:only-of-type {\n",
       "        vertical-align: middle;\n",
       "    }\n",
       "\n",
       "    .dataframe tbody tr th {\n",
       "        vertical-align: top;\n",
       "    }\n",
       "\n",
       "    .dataframe thead th {\n",
       "        text-align: right;\n",
       "    }\n",
       "</style>\n",
       "<table border=\"1\" class=\"dataframe\">\n",
       "  <thead>\n",
       "    <tr style=\"text-align: right;\">\n",
       "      <th></th>\n",
       "      <th>id</th>\n",
       "      <th>name</th>\n",
       "      <th>company_id</th>\n",
       "      <th>amount</th>\n",
       "      <th>status</th>\n",
       "      <th>created_at</th>\n",
       "      <th>paid_at</th>\n",
       "    </tr>\n",
       "  </thead>\n",
       "  <tbody>\n",
       "    <tr>\n",
       "      <th>0</th>\n",
       "      <td>48ba4bdbfb56ceebb32f2bd0263e759be942af3d</td>\n",
       "      <td>MiPasajefy</td>\n",
       "      <td>cbf1c8b09cd5b549416d49d220a40cbd317f952e</td>\n",
       "      <td>3.00</td>\n",
       "      <td>voided</td>\n",
       "      <td>2019-03-19</td>\n",
       "      <td>NaN</td>\n",
       "    </tr>\n",
       "    <tr>\n",
       "      <th>1</th>\n",
       "      <td>05fc6f5ac66b6ee7e4253aa5d0c2299eb47aaaf4</td>\n",
       "      <td>MiPasajefy</td>\n",
       "      <td>cbf1c8b09cd5b549416d49d220a40cbd317f952e</td>\n",
       "      <td>3.00</td>\n",
       "      <td>pending_payment</td>\n",
       "      <td>2019-05-06</td>\n",
       "      <td>NaN</td>\n",
       "    </tr>\n",
       "    <tr>\n",
       "      <th>2</th>\n",
       "      <td>2cdce231c1fc6a2061bfa2f1d978351fe217245d</td>\n",
       "      <td>MiPasajefy</td>\n",
       "      <td>cbf1c8b09cd5b549416d49d220a40cbd317f952e</td>\n",
       "      <td>3.00</td>\n",
       "      <td>voided</td>\n",
       "      <td>2019-02-22</td>\n",
       "      <td>NaN</td>\n",
       "    </tr>\n",
       "    <tr>\n",
       "      <th>3</th>\n",
       "      <td>81633ba310a50b673efd469c37139576982901aa</td>\n",
       "      <td>MiPasajefy</td>\n",
       "      <td>cbf1c8b09cd5b549416d49d220a40cbd317f952e</td>\n",
       "      <td>102.61</td>\n",
       "      <td>paid</td>\n",
       "      <td>2019-02-27</td>\n",
       "      <td>2019-02-27</td>\n",
       "    </tr>\n",
       "    <tr>\n",
       "      <th>4</th>\n",
       "      <td>6ccfc4c24e788e4bca448df343698782db6b0c0b</td>\n",
       "      <td>MiPasajefy</td>\n",
       "      <td>cbf1c8b09cd5b549416d49d220a40cbd317f952e</td>\n",
       "      <td>184.49</td>\n",
       "      <td>paid</td>\n",
       "      <td>2019-02-05</td>\n",
       "      <td>2019-02-05</td>\n",
       "    </tr>\n",
       "  </tbody>\n",
       "</table>\n",
       "</div>"
      ],
      "text/plain": [
       "                                         id        name  \\\n",
       "0  48ba4bdbfb56ceebb32f2bd0263e759be942af3d  MiPasajefy   \n",
       "1  05fc6f5ac66b6ee7e4253aa5d0c2299eb47aaaf4  MiPasajefy   \n",
       "2  2cdce231c1fc6a2061bfa2f1d978351fe217245d  MiPasajefy   \n",
       "3  81633ba310a50b673efd469c37139576982901aa  MiPasajefy   \n",
       "4  6ccfc4c24e788e4bca448df343698782db6b0c0b  MiPasajefy   \n",
       "\n",
       "                                 company_id  amount           status  \\\n",
       "0  cbf1c8b09cd5b549416d49d220a40cbd317f952e    3.00           voided   \n",
       "1  cbf1c8b09cd5b549416d49d220a40cbd317f952e    3.00  pending_payment   \n",
       "2  cbf1c8b09cd5b549416d49d220a40cbd317f952e    3.00           voided   \n",
       "3  cbf1c8b09cd5b549416d49d220a40cbd317f952e  102.61             paid   \n",
       "4  cbf1c8b09cd5b549416d49d220a40cbd317f952e  184.49             paid   \n",
       "\n",
       "   created_at     paid_at  \n",
       "0  2019-03-19         NaN  \n",
       "1  2019-05-06         NaN  \n",
       "2  2019-02-22         NaN  \n",
       "3  2019-02-27  2019-02-27  \n",
       "4  2019-02-05  2019-02-05  "
      ]
     },
     "execution_count": 1740,
     "metadata": {},
     "output_type": "execute_result"
    }
   ],
   "source": [
    "import pandas as pd\n",
    "import numpy as np\n",
    "from hashlib import blake2b\n",
    "\n",
    "\n",
    "df=pd.read_csv('data_prueba_tecnica.csv')\n",
    "df.head(5)"
   ]
  },
  {
   "cell_type": "code",
   "execution_count": 1741,
   "metadata": {},
   "outputs": [
    {
     "data": {
      "text/html": [
       "<div>\n",
       "<style scoped>\n",
       "    .dataframe tbody tr th:only-of-type {\n",
       "        vertical-align: middle;\n",
       "    }\n",
       "\n",
       "    .dataframe tbody tr th {\n",
       "        vertical-align: top;\n",
       "    }\n",
       "\n",
       "    .dataframe thead th {\n",
       "        text-align: right;\n",
       "    }\n",
       "</style>\n",
       "<table border=\"1\" class=\"dataframe\">\n",
       "  <thead>\n",
       "    <tr style=\"text-align: right;\">\n",
       "      <th></th>\n",
       "      <th>amount</th>\n",
       "    </tr>\n",
       "  </thead>\n",
       "  <tbody>\n",
       "    <tr>\n",
       "      <th>count</th>\n",
       "      <td>1.000000e+04</td>\n",
       "    </tr>\n",
       "    <tr>\n",
       "      <th>mean</th>\n",
       "      <td>3.000000e+30</td>\n",
       "    </tr>\n",
       "    <tr>\n",
       "      <th>std</th>\n",
       "      <td>3.000000e+32</td>\n",
       "    </tr>\n",
       "    <tr>\n",
       "      <th>min</th>\n",
       "      <td>0.000000e+00</td>\n",
       "    </tr>\n",
       "    <tr>\n",
       "      <th>25%</th>\n",
       "      <td>3.121000e+01</td>\n",
       "    </tr>\n",
       "    <tr>\n",
       "      <th>50%</th>\n",
       "      <td>6.060500e+01</td>\n",
       "    </tr>\n",
       "    <tr>\n",
       "      <th>75%</th>\n",
       "      <td>1.095700e+02</td>\n",
       "    </tr>\n",
       "    <tr>\n",
       "      <th>max</th>\n",
       "      <td>3.000000e+34</td>\n",
       "    </tr>\n",
       "  </tbody>\n",
       "</table>\n",
       "</div>"
      ],
      "text/plain": [
       "             amount\n",
       "count  1.000000e+04\n",
       "mean   3.000000e+30\n",
       "std    3.000000e+32\n",
       "min    0.000000e+00\n",
       "25%    3.121000e+01\n",
       "50%    6.060500e+01\n",
       "75%    1.095700e+02\n",
       "max    3.000000e+34"
      ]
     },
     "execution_count": 1741,
     "metadata": {},
     "output_type": "execute_result"
    }
   ],
   "source": [
    "df.describe()"
   ]
  },
  {
   "cell_type": "code",
   "execution_count": 1742,
   "metadata": {},
   "outputs": [
    {
     "data": {
      "text/plain": [
       "id             object\n",
       "name           object\n",
       "company_id     object\n",
       "amount        float64\n",
       "status         object\n",
       "created_at     object\n",
       "paid_at        object\n",
       "dtype: object"
      ]
     },
     "execution_count": 1742,
     "metadata": {},
     "output_type": "execute_result"
    }
   ],
   "source": [
    "df.dtypes"
   ]
  },
  {
   "attachments": {},
   "cell_type": "markdown",
   "metadata": {},
   "source": [
    "# Limpieza de los datos del DataFrame\n",
    "\n",
    "## Buscamos nulos en id"
   ]
  },
  {
   "cell_type": "code",
   "execution_count": 1743,
   "metadata": {},
   "outputs": [
    {
     "data": {
      "text/html": [
       "<div>\n",
       "<style scoped>\n",
       "    .dataframe tbody tr th:only-of-type {\n",
       "        vertical-align: middle;\n",
       "    }\n",
       "\n",
       "    .dataframe tbody tr th {\n",
       "        vertical-align: top;\n",
       "    }\n",
       "\n",
       "    .dataframe thead th {\n",
       "        text-align: right;\n",
       "    }\n",
       "</style>\n",
       "<table border=\"1\" class=\"dataframe\">\n",
       "  <thead>\n",
       "    <tr style=\"text-align: right;\">\n",
       "      <th></th>\n",
       "      <th>id</th>\n",
       "      <th>name</th>\n",
       "      <th>company_id</th>\n",
       "      <th>amount</th>\n",
       "      <th>status</th>\n",
       "      <th>created_at</th>\n",
       "      <th>paid_at</th>\n",
       "    </tr>\n",
       "  </thead>\n",
       "  <tbody>\n",
       "    <tr>\n",
       "      <th>272</th>\n",
       "      <td>NaN</td>\n",
       "      <td>MiPasajefy</td>\n",
       "      <td>cbf1c8b09cd5b549416d49d220a40cbd317f952e</td>\n",
       "      <td>66.16</td>\n",
       "      <td>pending_payment</td>\n",
       "      <td>2019-03-14</td>\n",
       "      <td>NaN</td>\n",
       "    </tr>\n",
       "    <tr>\n",
       "      <th>9915</th>\n",
       "      <td>NaN</td>\n",
       "      <td>MiPasajefy</td>\n",
       "      <td>cbf1c8b09cd5b549416d49d220a40cbd317f952e</td>\n",
       "      <td>55.71</td>\n",
       "      <td>paid</td>\n",
       "      <td>2019-02-13</td>\n",
       "      <td>2019-02-13</td>\n",
       "    </tr>\n",
       "    <tr>\n",
       "      <th>9917</th>\n",
       "      <td>NaN</td>\n",
       "      <td>MiPasajefy</td>\n",
       "      <td>cbf1c8b09cd5b549416d49d220a40cbd317f952e</td>\n",
       "      <td>89.36</td>\n",
       "      <td>paid</td>\n",
       "      <td>2019-04-17</td>\n",
       "      <td>2019-04-17</td>\n",
       "    </tr>\n",
       "  </tbody>\n",
       "</table>\n",
       "</div>"
      ],
      "text/plain": [
       "       id        name                                company_id  amount  \\\n",
       "272   NaN  MiPasajefy  cbf1c8b09cd5b549416d49d220a40cbd317f952e   66.16   \n",
       "9915  NaN  MiPasajefy  cbf1c8b09cd5b549416d49d220a40cbd317f952e   55.71   \n",
       "9917  NaN  MiPasajefy  cbf1c8b09cd5b549416d49d220a40cbd317f952e   89.36   \n",
       "\n",
       "               status  created_at     paid_at  \n",
       "272   pending_payment  2019-03-14         NaN  \n",
       "9915             paid  2019-02-13  2019-02-13  \n",
       "9917             paid  2019-04-17  2019-04-17  "
      ]
     },
     "execution_count": 1743,
     "metadata": {},
     "output_type": "execute_result"
    }
   ],
   "source": [
    "df[df['id'].isnull()]"
   ]
  },
  {
   "attachments": {},
   "cell_type": "markdown",
   "metadata": {},
   "source": [
    "### La compañia MiPasajefy, tiene 3 id en nulos\n",
    "\n",
    "Buscaremos si los id,son unicos y cuantos id's existen"
   ]
  },
  {
   "cell_type": "code",
   "execution_count": 1744,
   "metadata": {},
   "outputs": [
    {
     "name": "stdout",
     "output_type": "stream",
     "text": [
      "\n",
      "id diferentes:\n",
      "\n",
      "id\n",
      "0000d8d9d1cc40ec1fddc849fccf2bf801cb8ec7    1\n",
      "0008c6c98fa03633ac39c5af4418df778b9a290b    1\n",
      "0014b4795f8f3b7166dabedb3030e0b55f81dd22    1\n",
      "00166e87789da128e7003865becffc2ebc3e69c6    1\n",
      "001e3d6bb05dccc7577d10deb5f12cc368c05bcc    1\n",
      "                                           ..\n",
      "ffd50b0c4224ea33369dbc0bdf1ae72e614a56ef    1\n",
      "ffe2c0899fb1a4c526bf79b52311da91799df858    1\n",
      "ffe66386266b4e0928bb523dbf8de74ab22bdd76    1\n",
      "ffecad714275b75e2a4dc049d0017fd45cee0ba7    1\n",
      "ffee16f1b4edfb13577d14b8125632115e6f9a8a    1\n",
      "Length: 9997, dtype: int64 \n",
      "\n",
      "id nulos: 3 \n",
      "Total de registros en el DataFrame: 10000\n"
     ]
    }
   ],
   "source": [
    "#Cuenta los id's unicos\n",
    "df2 = df.pivot_table(index = ['id'], aggfunc ='size')\n",
    "#Cuanta cuantos id's son nulos\n",
    "df_null= df[df['id'].isnull()]\n",
    "print(f'''\n",
    "id diferentes:\n",
    "\n",
    "{df2} \n",
    "\n",
    "id nulos: {len(df_null)} \n",
    "Total de registros en el DataFrame: {len(df)}''')"
   ]
  },
  {
   "attachments": {},
   "cell_type": "markdown",
   "metadata": {},
   "source": [
    "Arriba, podemos observar,  que el id es unico para cada fila en nuestro DataFrame, por lo que necesitaremos asignarle un id unico a nuestro a nuestros registros nulos.\n",
    "\n"
   ]
  },
  {
   "cell_type": "code",
   "execution_count": 1745,
   "metadata": {},
   "outputs": [
    {
     "data": {
      "text/plain": [
       "id            ef07d09f55a99d773b445b9946af24216b30d602\n",
       "name                                        MiPasajefy\n",
       "company_id    cbf1c8b09cd5b549416d49d220a40cbd317f952e\n",
       "amount                                           66.16\n",
       "status                                 pending_payment\n",
       "created_at                                  2019-03-14\n",
       "paid_at                                            NaN\n",
       "Name: 272, dtype: object"
      ]
     },
     "execution_count": 1745,
     "metadata": {},
     "output_type": "execute_result"
    }
   ],
   "source": [
    "\n",
    "#df['id'].fillna(0,inplace=True)\n",
    "\n",
    "def UniqueID(fila):\n",
    "    nombre=fila['name']\n",
    "    company=fila['company_id']\n",
    "    valor=fila['status']\n",
    "    fecha=fila['created_at']\n",
    "    id=str(nombre+company+valor+fecha)\n",
    "    id_bytes=id.encode()\n",
    "    h=blake2b(digest_size=20)\n",
    "    h.update(id_bytes)\n",
    "    return h.hexdigest()\n",
    "\n",
    "df.loc[df['id'].isnull(),'id'] =df.loc[df['id'].isnull()].apply(UniqueID, axis=1)\n",
    "df.iloc[272]"
   ]
  },
  {
   "attachments": {},
   "cell_type": "markdown",
   "metadata": {},
   "source": [
    "Aplicamos la funcion UniqueID la cual hace un hash blake2b con la informacion de la fila done teniamos el id nulo, este hash es unico, por lo que no coliciona con nin id que ya tenemos en nuestro DataFrame.Esto lo podemos corroborar con la siguiente linea de codigo."
   ]
  },
  {
   "cell_type": "code",
   "execution_count": 1746,
   "metadata": {},
   "outputs": [
    {
     "data": {
      "text/plain": [
       "id\n",
       "0000d8d9d1cc40ec1fddc849fccf2bf801cb8ec7    1\n",
       "0008c6c98fa03633ac39c5af4418df778b9a290b    1\n",
       "0014b4795f8f3b7166dabedb3030e0b55f81dd22    1\n",
       "00166e87789da128e7003865becffc2ebc3e69c6    1\n",
       "001e3d6bb05dccc7577d10deb5f12cc368c05bcc    1\n",
       "                                           ..\n",
       "ffd50b0c4224ea33369dbc0bdf1ae72e614a56ef    1\n",
       "ffe2c0899fb1a4c526bf79b52311da91799df858    1\n",
       "ffe66386266b4e0928bb523dbf8de74ab22bdd76    1\n",
       "ffecad714275b75e2a4dc049d0017fd45cee0ba7    1\n",
       "ffee16f1b4edfb13577d14b8125632115e6f9a8a    1\n",
       "Length: 10000, dtype: int64"
      ]
     },
     "execution_count": 1746,
     "metadata": {},
     "output_type": "execute_result"
    }
   ],
   "source": [
    "#Cuenta los id's unicos\n",
    "df.pivot_table(index = ['id'], aggfunc ='size')"
   ]
  },
  {
   "attachments": {},
   "cell_type": "markdown",
   "metadata": {},
   "source": [
    "## Buscamos nulos en name\n"
   ]
  },
  {
   "cell_type": "code",
   "execution_count": 1747,
   "metadata": {},
   "outputs": [
    {
     "data": {
      "text/html": [
       "<div>\n",
       "<style scoped>\n",
       "    .dataframe tbody tr th:only-of-type {\n",
       "        vertical-align: middle;\n",
       "    }\n",
       "\n",
       "    .dataframe tbody tr th {\n",
       "        vertical-align: top;\n",
       "    }\n",
       "\n",
       "    .dataframe thead th {\n",
       "        text-align: right;\n",
       "    }\n",
       "</style>\n",
       "<table border=\"1\" class=\"dataframe\">\n",
       "  <thead>\n",
       "    <tr style=\"text-align: right;\">\n",
       "      <th></th>\n",
       "      <th>id</th>\n",
       "      <th>name</th>\n",
       "      <th>company_id</th>\n",
       "      <th>amount</th>\n",
       "      <th>status</th>\n",
       "      <th>created_at</th>\n",
       "      <th>paid_at</th>\n",
       "    </tr>\n",
       "  </thead>\n",
       "  <tbody>\n",
       "    <tr>\n",
       "      <th>731</th>\n",
       "      <td>ec79a21ef969c7fc6beef080ff56baf0aeeca8b5</td>\n",
       "      <td>NaN</td>\n",
       "      <td>cbf1c8b09cd5b549416d49d220a40cbd317f952e</td>\n",
       "      <td>112.52</td>\n",
       "      <td>paid</td>\n",
       "      <td>2019-02-14</td>\n",
       "      <td>2019-02-14</td>\n",
       "    </tr>\n",
       "    <tr>\n",
       "      <th>2199</th>\n",
       "      <td>6a6ac16d53a02ba7948bff0a534e45404e716c5b</td>\n",
       "      <td>NaN</td>\n",
       "      <td>cbf1c8b09cd5b549416d49d220a40cbd317f952e</td>\n",
       "      <td>244.88</td>\n",
       "      <td>voided</td>\n",
       "      <td>2019-05-09</td>\n",
       "      <td>NaN</td>\n",
       "    </tr>\n",
       "    <tr>\n",
       "      <th>2200</th>\n",
       "      <td>4740cf2624c3b929d9944cdfcb5c87e71a82ddc5</td>\n",
       "      <td>NaN</td>\n",
       "      <td>cbf1c8b09cd5b549416d49d220a40cbd317f952e</td>\n",
       "      <td>118.78</td>\n",
       "      <td>paid</td>\n",
       "      <td>2019-03-05</td>\n",
       "      <td>2019-03-06</td>\n",
       "    </tr>\n",
       "  </tbody>\n",
       "</table>\n",
       "</div>"
      ],
      "text/plain": [
       "                                            id name  \\\n",
       "731   ec79a21ef969c7fc6beef080ff56baf0aeeca8b5  NaN   \n",
       "2199  6a6ac16d53a02ba7948bff0a534e45404e716c5b  NaN   \n",
       "2200  4740cf2624c3b929d9944cdfcb5c87e71a82ddc5  NaN   \n",
       "\n",
       "                                    company_id  amount  status  created_at  \\\n",
       "731   cbf1c8b09cd5b549416d49d220a40cbd317f952e  112.52    paid  2019-02-14   \n",
       "2199  cbf1c8b09cd5b549416d49d220a40cbd317f952e  244.88  voided  2019-05-09   \n",
       "2200  cbf1c8b09cd5b549416d49d220a40cbd317f952e  118.78    paid  2019-03-05   \n",
       "\n",
       "         paid_at  \n",
       "731   2019-02-14  \n",
       "2199         NaN  \n",
       "2200  2019-03-06  "
      ]
     },
     "execution_count": 1747,
     "metadata": {},
     "output_type": "execute_result"
    }
   ],
   "source": [
    "df[df['name'].isnull()]"
   ]
  },
  {
   "attachments": {},
   "cell_type": "markdown",
   "metadata": {},
   "source": [
    "Tenemos nulos en el la columna \"name\", por lo que buscaremos cuantos nombres existen y que conexion tiene con las demas columnas en el DataFrame"
   ]
  },
  {
   "cell_type": "code",
   "execution_count": 1748,
   "metadata": {},
   "outputs": [
    {
     "data": {
      "text/plain": [
       "name            company_id                              \n",
       "MiP0xFFFF       cbf1c8b09cd5b549416d49d220a40cbd317f952e       1\n",
       "MiPas0xFFFF     cbf1c8b09cd5b549416d49d220a40cbd317f952e       1\n",
       "MiPasajefy      *******                                        1\n",
       "                cbf1c8b09cd5b549416d49d220a40cbd317f952e    9894\n",
       "Muebles chidos  8f642dc67fccf861548dfe1c761ce22f795e91f0      96\n",
       "dtype: int64"
      ]
     },
     "execution_count": 1748,
     "metadata": {},
     "output_type": "execute_result"
    }
   ],
   "source": [
    "df.pivot_table(index = ['name','company_id'], aggfunc ='size')"
   ]
  },
  {
   "cell_type": "code",
   "execution_count": 1749,
   "metadata": {},
   "outputs": [
    {
     "data": {
      "text/plain": [
       "company_id                                name          \n",
       "*******                                   MiPasajefy           1\n",
       "8f642dc67fccf861548dfe1c761ce22f795e91f0  Muebles chidos      96\n",
       "cbf1c8b09cd5b549416d49d220a40cbd317f952e  MiP0xFFFF            1\n",
       "                                          MiPas0xFFFF          1\n",
       "                                          MiPasajefy        9894\n",
       "dtype: int64"
      ]
     },
     "execution_count": 1749,
     "metadata": {},
     "output_type": "execute_result"
    }
   ],
   "source": [
    "df.pivot_table(index = ['company_id','name'], aggfunc ='size')"
   ]
  },
  {
   "attachments": {},
   "cell_type": "markdown",
   "metadata": {},
   "source": [
    "De acuerdo a las 2 tablas anterirores, podemos observar la relacion que hay entre \"compañia_id\" y el nombre de la empresa,\n",
    "Podemos observar que el nombre de la empresa esta corrompido, ya que la columna \"company_id\" esta asociado a 3 nombres distintos, de los cuales 2 son el comienzo del verdadero nombre."
   ]
  },
  {
   "attachments": {},
   "cell_type": "markdown",
   "metadata": {},
   "source": [
    "Buscamos las coincidencias ente el company_id y enombre diferente a \"MiPasajefy\"."
   ]
  },
  {
   "cell_type": "code",
   "execution_count": 1750,
   "metadata": {},
   "outputs": [
    {
     "data": {
      "text/html": [
       "<div>\n",
       "<style scoped>\n",
       "    .dataframe tbody tr th:only-of-type {\n",
       "        vertical-align: middle;\n",
       "    }\n",
       "\n",
       "    .dataframe tbody tr th {\n",
       "        vertical-align: top;\n",
       "    }\n",
       "\n",
       "    .dataframe thead th {\n",
       "        text-align: right;\n",
       "    }\n",
       "</style>\n",
       "<table border=\"1\" class=\"dataframe\">\n",
       "  <thead>\n",
       "    <tr style=\"text-align: right;\">\n",
       "      <th></th>\n",
       "      <th>id</th>\n",
       "      <th>name</th>\n",
       "      <th>company_id</th>\n",
       "      <th>amount</th>\n",
       "      <th>status</th>\n",
       "      <th>created_at</th>\n",
       "      <th>paid_at</th>\n",
       "    </tr>\n",
       "  </thead>\n",
       "  <tbody>\n",
       "    <tr>\n",
       "      <th>731</th>\n",
       "      <td>ec79a21ef969c7fc6beef080ff56baf0aeeca8b5</td>\n",
       "      <td>NaN</td>\n",
       "      <td>cbf1c8b09cd5b549416d49d220a40cbd317f952e</td>\n",
       "      <td>112.52</td>\n",
       "      <td>paid</td>\n",
       "      <td>2019-02-14</td>\n",
       "      <td>2019-02-14</td>\n",
       "    </tr>\n",
       "    <tr>\n",
       "      <th>1320</th>\n",
       "      <td>60366f3cfb5245ec62143984eef4ba93cfbe3c38</td>\n",
       "      <td>MiPas0xFFFF</td>\n",
       "      <td>cbf1c8b09cd5b549416d49d220a40cbd317f952e</td>\n",
       "      <td>134.99</td>\n",
       "      <td>paid</td>\n",
       "      <td>2019-01-25</td>\n",
       "      <td>2019-01-25</td>\n",
       "    </tr>\n",
       "    <tr>\n",
       "      <th>1479</th>\n",
       "      <td>891732cfc6980d71a24ccba4138a3af2f14413fb</td>\n",
       "      <td>MiP0xFFFF</td>\n",
       "      <td>cbf1c8b09cd5b549416d49d220a40cbd317f952e</td>\n",
       "      <td>47.64</td>\n",
       "      <td>voided</td>\n",
       "      <td>2019-03-17</td>\n",
       "      <td>NaN</td>\n",
       "    </tr>\n",
       "    <tr>\n",
       "      <th>2199</th>\n",
       "      <td>6a6ac16d53a02ba7948bff0a534e45404e716c5b</td>\n",
       "      <td>NaN</td>\n",
       "      <td>cbf1c8b09cd5b549416d49d220a40cbd317f952e</td>\n",
       "      <td>244.88</td>\n",
       "      <td>voided</td>\n",
       "      <td>2019-05-09</td>\n",
       "      <td>NaN</td>\n",
       "    </tr>\n",
       "    <tr>\n",
       "      <th>2200</th>\n",
       "      <td>4740cf2624c3b929d9944cdfcb5c87e71a82ddc5</td>\n",
       "      <td>NaN</td>\n",
       "      <td>cbf1c8b09cd5b549416d49d220a40cbd317f952e</td>\n",
       "      <td>118.78</td>\n",
       "      <td>paid</td>\n",
       "      <td>2019-03-05</td>\n",
       "      <td>2019-03-06</td>\n",
       "    </tr>\n",
       "  </tbody>\n",
       "</table>\n",
       "</div>"
      ],
      "text/plain": [
       "                                            id         name  \\\n",
       "731   ec79a21ef969c7fc6beef080ff56baf0aeeca8b5          NaN   \n",
       "1320  60366f3cfb5245ec62143984eef4ba93cfbe3c38  MiPas0xFFFF   \n",
       "1479  891732cfc6980d71a24ccba4138a3af2f14413fb    MiP0xFFFF   \n",
       "2199  6a6ac16d53a02ba7948bff0a534e45404e716c5b          NaN   \n",
       "2200  4740cf2624c3b929d9944cdfcb5c87e71a82ddc5          NaN   \n",
       "\n",
       "                                    company_id  amount  status  created_at  \\\n",
       "731   cbf1c8b09cd5b549416d49d220a40cbd317f952e  112.52    paid  2019-02-14   \n",
       "1320  cbf1c8b09cd5b549416d49d220a40cbd317f952e  134.99    paid  2019-01-25   \n",
       "1479  cbf1c8b09cd5b549416d49d220a40cbd317f952e   47.64  voided  2019-03-17   \n",
       "2199  cbf1c8b09cd5b549416d49d220a40cbd317f952e  244.88  voided  2019-05-09   \n",
       "2200  cbf1c8b09cd5b549416d49d220a40cbd317f952e  118.78    paid  2019-03-05   \n",
       "\n",
       "         paid_at  \n",
       "731   2019-02-14  \n",
       "1320  2019-01-25  \n",
       "1479         NaN  \n",
       "2199         NaN  \n",
       "2200  2019-03-06  "
      ]
     },
     "execution_count": 1750,
     "metadata": {},
     "output_type": "execute_result"
    }
   ],
   "source": [
    "df[(df['name']!='MiPasajefy')&(df['company_id']=='cbf1c8b09cd5b549416d49d220a40cbd317f952e')]"
   ]
  },
  {
   "attachments": {},
   "cell_type": "markdown",
   "metadata": {},
   "source": [
    "De acuerdo a la informacion anteriror , podemos observar que el company_id \"cbf1c8b09cd5b549416d49d220a40cbd317f952e\" esta asignado a nombres incorrectos de la compañia \"MiPasajefy\", asi que cambimos los nombres incorrectos, por el nombre correcto de la empresa."
   ]
  },
  {
   "cell_type": "code",
   "execution_count": 1751,
   "metadata": {},
   "outputs": [],
   "source": [
    "df.loc[(df['name']!='MiPasajefy')&(df['company_id']=='cbf1c8b09cd5b549416d49d220a40cbd317f952e'),'name']='MiPasajefy'"
   ]
  },
  {
   "cell_type": "code",
   "execution_count": 1752,
   "metadata": {},
   "outputs": [
    {
     "data": {
      "text/plain": [
       "company_id                                name          \n",
       "*******                                   MiPasajefy           1\n",
       "8f642dc67fccf861548dfe1c761ce22f795e91f0  Muebles chidos      96\n",
       "cbf1c8b09cd5b549416d49d220a40cbd317f952e  MiPasajefy        9899\n",
       "dtype: int64"
      ]
     },
     "execution_count": 1752,
     "metadata": {},
     "output_type": "execute_result"
    }
   ],
   "source": [
    "df.pivot_table(index = ['company_id','name'], aggfunc ='size')"
   ]
  },
  {
   "attachments": {},
   "cell_type": "markdown",
   "metadata": {},
   "source": [
    "Ahora podemos ver que el company_id \"cbf1c8b09cd5b549416d49d220a40cbd317f952e\", le pertenece solo al una empresa.\n",
    "Pero ahora tenemos que la empresa \"MiPasajefy\" tiene asignada un company_id diferente, asi que lo cambiamos al company_id correcto."
   ]
  },
  {
   "cell_type": "code",
   "execution_count": 1753,
   "metadata": {},
   "outputs": [
    {
     "data": {
      "text/plain": [
       "company_id                                name          \n",
       "8f642dc67fccf861548dfe1c761ce22f795e91f0  Muebles chidos      96\n",
       "cbf1c8b09cd5b549416d49d220a40cbd317f952e  MiPasajefy        9904\n",
       "dtype: int64"
      ]
     },
     "execution_count": 1753,
     "metadata": {},
     "output_type": "execute_result"
    }
   ],
   "source": [
    "df.loc[(df['company_id']!='cbf1c8b09cd5b549416d49d220a40cbd317f952e')&(df['name']=='MiPasajefy'),'company_id']='cbf1c8b09cd5b549416d49d220a40cbd317f952e'\n",
    "df.pivot_table(index = ['company_id','name'], aggfunc ='size')"
   ]
  },
  {
   "attachments": {},
   "cell_type": "markdown",
   "metadata": {},
   "source": [
    "Ahora ya tenemos relacionadas las compnay-id con las empresas correspondientes"
   ]
  },
  {
   "cell_type": "code",
   "execution_count": 1754,
   "metadata": {},
   "outputs": [
    {
     "data": {
      "text/html": [
       "<div>\n",
       "<style scoped>\n",
       "    .dataframe tbody tr th:only-of-type {\n",
       "        vertical-align: middle;\n",
       "    }\n",
       "\n",
       "    .dataframe tbody tr th {\n",
       "        vertical-align: top;\n",
       "    }\n",
       "\n",
       "    .dataframe thead th {\n",
       "        text-align: right;\n",
       "    }\n",
       "</style>\n",
       "<table border=\"1\" class=\"dataframe\">\n",
       "  <thead>\n",
       "    <tr style=\"text-align: right;\">\n",
       "      <th></th>\n",
       "      <th></th>\n",
       "      <th>id</th>\n",
       "      <th>name</th>\n",
       "      <th>company_id</th>\n",
       "      <th>amount</th>\n",
       "      <th>status</th>\n",
       "      <th>created_at</th>\n",
       "      <th>paid_at</th>\n",
       "    </tr>\n",
       "    <tr>\n",
       "      <th>company_id</th>\n",
       "      <th>name</th>\n",
       "      <th></th>\n",
       "      <th></th>\n",
       "      <th></th>\n",
       "      <th></th>\n",
       "      <th></th>\n",
       "      <th></th>\n",
       "      <th></th>\n",
       "    </tr>\n",
       "  </thead>\n",
       "  <tbody>\n",
       "    <tr>\n",
       "      <th>8f642dc67fccf861548dfe1c761ce22f795e91f0</th>\n",
       "      <th>Muebles chidos</th>\n",
       "      <td>96</td>\n",
       "      <td>96</td>\n",
       "      <td>96</td>\n",
       "      <td>96</td>\n",
       "      <td>96</td>\n",
       "      <td>96</td>\n",
       "      <td>32</td>\n",
       "    </tr>\n",
       "    <tr>\n",
       "      <th>cbf1c8b09cd5b549416d49d220a40cbd317f952e</th>\n",
       "      <th>MiPasajefy</th>\n",
       "      <td>9904</td>\n",
       "      <td>9904</td>\n",
       "      <td>9904</td>\n",
       "      <td>9904</td>\n",
       "      <td>9904</td>\n",
       "      <td>9904</td>\n",
       "      <td>5977</td>\n",
       "    </tr>\n",
       "  </tbody>\n",
       "</table>\n",
       "</div>"
      ],
      "text/plain": [
       "                                                           id  name  \\\n",
       "company_id                               name                         \n",
       "8f642dc67fccf861548dfe1c761ce22f795e91f0 Muebles chidos    96    96   \n",
       "cbf1c8b09cd5b549416d49d220a40cbd317f952e MiPasajefy      9904  9904   \n",
       "\n",
       "                                                         company_id  amount  \\\n",
       "company_id                               name                                 \n",
       "8f642dc67fccf861548dfe1c761ce22f795e91f0 Muebles chidos          96      96   \n",
       "cbf1c8b09cd5b549416d49d220a40cbd317f952e MiPasajefy            9904    9904   \n",
       "\n",
       "                                                         status  created_at  \\\n",
       "company_id                               name                                 \n",
       "8f642dc67fccf861548dfe1c761ce22f795e91f0 Muebles chidos      96          96   \n",
       "cbf1c8b09cd5b549416d49d220a40cbd317f952e MiPasajefy        9904        9904   \n",
       "\n",
       "                                                         paid_at  \n",
       "company_id                               name                     \n",
       "8f642dc67fccf861548dfe1c761ce22f795e91f0 Muebles chidos       32  \n",
       "cbf1c8b09cd5b549416d49d220a40cbd317f952e MiPasajefy         5977  "
      ]
     },
     "execution_count": 1754,
     "metadata": {},
     "output_type": "execute_result"
    }
   ],
   "source": [
    "df.groupby(['company_id','name']).apply(lambda grp: grp.count())"
   ]
  },
  {
   "attachments": {},
   "cell_type": "markdown",
   "metadata": {},
   "source": [
    "## Buscamos si hay alguna anomalia en amount"
   ]
  },
  {
   "cell_type": "code",
   "execution_count": 1755,
   "metadata": {},
   "outputs": [
    {
     "data": {
      "text/html": [
       "<div>\n",
       "<style scoped>\n",
       "    .dataframe tbody tr th:only-of-type {\n",
       "        vertical-align: middle;\n",
       "    }\n",
       "\n",
       "    .dataframe tbody tr th {\n",
       "        vertical-align: top;\n",
       "    }\n",
       "\n",
       "    .dataframe thead th {\n",
       "        text-align: right;\n",
       "    }\n",
       "</style>\n",
       "<table border=\"1\" class=\"dataframe\">\n",
       "  <thead>\n",
       "    <tr style=\"text-align: right;\">\n",
       "      <th></th>\n",
       "      <th>id</th>\n",
       "      <th>name</th>\n",
       "      <th>company_id</th>\n",
       "      <th>amount</th>\n",
       "      <th>status</th>\n",
       "      <th>created_at</th>\n",
       "      <th>paid_at</th>\n",
       "    </tr>\n",
       "  </thead>\n",
       "  <tbody>\n",
       "  </tbody>\n",
       "</table>\n",
       "</div>"
      ],
      "text/plain": [
       "Empty DataFrame\n",
       "Columns: [id, name, company_id, amount, status, created_at, paid_at]\n",
       "Index: []"
      ]
     },
     "execution_count": 1755,
     "metadata": {},
     "output_type": "execute_result"
    }
   ],
   "source": [
    "df[df['amount'].isnull()]"
   ]
  },
  {
   "cell_type": "code",
   "execution_count": 1756,
   "metadata": {},
   "outputs": [
    {
     "data": {
      "text/html": [
       "<div>\n",
       "<style scoped>\n",
       "    .dataframe tbody tr th:only-of-type {\n",
       "        vertical-align: middle;\n",
       "    }\n",
       "\n",
       "    .dataframe tbody tr th {\n",
       "        vertical-align: top;\n",
       "    }\n",
       "\n",
       "    .dataframe thead th {\n",
       "        text-align: right;\n",
       "    }\n",
       "</style>\n",
       "<table border=\"1\" class=\"dataframe\">\n",
       "  <thead>\n",
       "    <tr style=\"text-align: right;\">\n",
       "      <th></th>\n",
       "      <th>id</th>\n",
       "      <th>name</th>\n",
       "      <th>company_id</th>\n",
       "      <th>amount</th>\n",
       "      <th>status</th>\n",
       "      <th>created_at</th>\n",
       "      <th>paid_at</th>\n",
       "    </tr>\n",
       "  </thead>\n",
       "  <tbody>\n",
       "    <tr>\n",
       "      <th>1515</th>\n",
       "      <td>37fd630d05e0b4c9c179eea6f88541e27adfbd07</td>\n",
       "      <td>MiPasajefy</td>\n",
       "      <td>cbf1c8b09cd5b549416d49d220a40cbd317f952e</td>\n",
       "      <td>2.131231e+18</td>\n",
       "      <td>pending_payment</td>\n",
       "      <td>2019-03-27</td>\n",
       "      <td>NaN</td>\n",
       "    </tr>\n",
       "    <tr>\n",
       "      <th>1609</th>\n",
       "      <td>a98245b3f1e8484f2e65f245ef35051822d0f4fb</td>\n",
       "      <td>MiPasajefy</td>\n",
       "      <td>cbf1c8b09cd5b549416d49d220a40cbd317f952e</td>\n",
       "      <td>2.132132e+16</td>\n",
       "      <td>pending_payment</td>\n",
       "      <td>2019-05-09</td>\n",
       "      <td>NaN</td>\n",
       "    </tr>\n",
       "    <tr>\n",
       "      <th>1896</th>\n",
       "      <td>a07c65559e91a7b08a25f6c7e9f130cdfb727a42</td>\n",
       "      <td>MiPasajefy</td>\n",
       "      <td>cbf1c8b09cd5b549416d49d220a40cbd317f952e</td>\n",
       "      <td>3.000000e+34</td>\n",
       "      <td>voided</td>\n",
       "      <td>2019-04-17</td>\n",
       "      <td>NaN</td>\n",
       "    </tr>\n",
       "  </tbody>\n",
       "</table>\n",
       "</div>"
      ],
      "text/plain": [
       "                                            id        name  \\\n",
       "1515  37fd630d05e0b4c9c179eea6f88541e27adfbd07  MiPasajefy   \n",
       "1609  a98245b3f1e8484f2e65f245ef35051822d0f4fb  MiPasajefy   \n",
       "1896  a07c65559e91a7b08a25f6c7e9f130cdfb727a42  MiPasajefy   \n",
       "\n",
       "                                    company_id        amount           status  \\\n",
       "1515  cbf1c8b09cd5b549416d49d220a40cbd317f952e  2.131231e+18  pending_payment   \n",
       "1609  cbf1c8b09cd5b549416d49d220a40cbd317f952e  2.132132e+16  pending_payment   \n",
       "1896  cbf1c8b09cd5b549416d49d220a40cbd317f952e  3.000000e+34           voided   \n",
       "\n",
       "      created_at paid_at  \n",
       "1515  2019-03-27     NaN  \n",
       "1609  2019-05-09     NaN  \n",
       "1896  2019-04-17     NaN  "
      ]
     },
     "execution_count": 1756,
     "metadata": {},
     "output_type": "execute_result"
    }
   ],
   "source": [
    "df[df['amount']>100000000000000]"
   ]
  },
  {
   "attachments": {},
   "cell_type": "markdown",
   "metadata": {},
   "source": [
    "Podemos observar que la columna amount, contiene numeros que exceden nuestra restriccion de amount decimal(16,2) NOT NULL, asi que debemos transformarlos para que cumplan con la restriccion."
   ]
  },
  {
   "cell_type": "code",
   "execution_count": 1757,
   "metadata": {},
   "outputs": [],
   "source": [
    "# Limitaremos los numeros con las restricciones que ya tenmos, despues lo redondearemos a 2 decimales\n",
    "df['amount'] = np.clip(df['amount'], -9999999999999, 99999999999999)\n",
    "df['amount'] = np.round(df['amount'], 2)\n"
   ]
  },
  {
   "cell_type": "code",
   "execution_count": 1758,
   "metadata": {},
   "outputs": [
    {
     "data": {
      "text/html": [
       "<div>\n",
       "<style scoped>\n",
       "    .dataframe tbody tr th:only-of-type {\n",
       "        vertical-align: middle;\n",
       "    }\n",
       "\n",
       "    .dataframe tbody tr th {\n",
       "        vertical-align: top;\n",
       "    }\n",
       "\n",
       "    .dataframe thead th {\n",
       "        text-align: right;\n",
       "    }\n",
       "</style>\n",
       "<table border=\"1\" class=\"dataframe\">\n",
       "  <thead>\n",
       "    <tr style=\"text-align: right;\">\n",
       "      <th></th>\n",
       "      <th>id</th>\n",
       "      <th>name</th>\n",
       "      <th>company_id</th>\n",
       "      <th>amount</th>\n",
       "      <th>status</th>\n",
       "      <th>created_at</th>\n",
       "      <th>paid_at</th>\n",
       "    </tr>\n",
       "  </thead>\n",
       "  <tbody>\n",
       "  </tbody>\n",
       "</table>\n",
       "</div>"
      ],
      "text/plain": [
       "Empty DataFrame\n",
       "Columns: [id, name, company_id, amount, status, created_at, paid_at]\n",
       "Index: []"
      ]
     },
     "execution_count": 1758,
     "metadata": {},
     "output_type": "execute_result"
    }
   ],
   "source": [
    "df[df['amount']>100000000000000]"
   ]
  },
  {
   "attachments": {},
   "cell_type": "markdown",
   "metadata": {},
   "source": [
    "## Buscamos si hay algun nulo en status "
   ]
  },
  {
   "cell_type": "code",
   "execution_count": 1759,
   "metadata": {},
   "outputs": [
    {
     "data": {
      "text/html": [
       "<div>\n",
       "<style scoped>\n",
       "    .dataframe tbody tr th:only-of-type {\n",
       "        vertical-align: middle;\n",
       "    }\n",
       "\n",
       "    .dataframe tbody tr th {\n",
       "        vertical-align: top;\n",
       "    }\n",
       "\n",
       "    .dataframe thead th {\n",
       "        text-align: right;\n",
       "    }\n",
       "</style>\n",
       "<table border=\"1\" class=\"dataframe\">\n",
       "  <thead>\n",
       "    <tr style=\"text-align: right;\">\n",
       "      <th></th>\n",
       "      <th>id</th>\n",
       "      <th>name</th>\n",
       "      <th>company_id</th>\n",
       "      <th>amount</th>\n",
       "      <th>status</th>\n",
       "      <th>created_at</th>\n",
       "      <th>paid_at</th>\n",
       "    </tr>\n",
       "  </thead>\n",
       "  <tbody>\n",
       "  </tbody>\n",
       "</table>\n",
       "</div>"
      ],
      "text/plain": [
       "Empty DataFrame\n",
       "Columns: [id, name, company_id, amount, status, created_at, paid_at]\n",
       "Index: []"
      ]
     },
     "execution_count": 1759,
     "metadata": {},
     "output_type": "execute_result"
    }
   ],
   "source": [
    "df[df['status'].isnull()]"
   ]
  },
  {
   "attachments": {},
   "cell_type": "markdown",
   "metadata": {},
   "source": [
    "No tenemos ningun nulo, pero si tenemos tipos extraños de status"
   ]
  },
  {
   "cell_type": "code",
   "execution_count": 1760,
   "metadata": {},
   "outputs": [
    {
     "data": {
      "text/plain": [
       "status\n",
       "0xFFFF                   1\n",
       "charged_back            21\n",
       "expired                  8\n",
       "p&0x3fid                 1\n",
       "paid                  5892\n",
       "partially_refunded       1\n",
       "pending_payment       1881\n",
       "pre_authorized          18\n",
       "refunded                93\n",
       "voided                2084\n",
       "dtype: int64"
      ]
     },
     "execution_count": 1760,
     "metadata": {},
     "output_type": "execute_result"
    }
   ],
   "source": [
    "df.pivot_table(index = ['status'], aggfunc ='size')"
   ]
  },
  {
   "cell_type": "code",
   "execution_count": 1761,
   "metadata": {},
   "outputs": [
    {
     "data": {
      "text/html": [
       "<div>\n",
       "<style scoped>\n",
       "    .dataframe tbody tr th:only-of-type {\n",
       "        vertical-align: middle;\n",
       "    }\n",
       "\n",
       "    .dataframe tbody tr th {\n",
       "        vertical-align: top;\n",
       "    }\n",
       "\n",
       "    .dataframe thead th {\n",
       "        text-align: right;\n",
       "    }\n",
       "</style>\n",
       "<table border=\"1\" class=\"dataframe\">\n",
       "  <thead>\n",
       "    <tr style=\"text-align: right;\">\n",
       "      <th></th>\n",
       "      <th>id</th>\n",
       "      <th>name</th>\n",
       "      <th>company_id</th>\n",
       "      <th>amount</th>\n",
       "      <th>status</th>\n",
       "      <th>created_at</th>\n",
       "      <th>paid_at</th>\n",
       "    </tr>\n",
       "  </thead>\n",
       "  <tbody>\n",
       "    <tr>\n",
       "      <th>3</th>\n",
       "      <td>81633ba310a50b673efd469c37139576982901aa</td>\n",
       "      <td>MiPasajefy</td>\n",
       "      <td>cbf1c8b09cd5b549416d49d220a40cbd317f952e</td>\n",
       "      <td>102.61</td>\n",
       "      <td>paid</td>\n",
       "      <td>2019-02-27</td>\n",
       "      <td>2019-02-27</td>\n",
       "    </tr>\n",
       "    <tr>\n",
       "      <th>4</th>\n",
       "      <td>6ccfc4c24e788e4bca448df343698782db6b0c0b</td>\n",
       "      <td>MiPasajefy</td>\n",
       "      <td>cbf1c8b09cd5b549416d49d220a40cbd317f952e</td>\n",
       "      <td>184.49</td>\n",
       "      <td>paid</td>\n",
       "      <td>2019-02-05</td>\n",
       "      <td>2019-02-05</td>\n",
       "    </tr>\n",
       "    <tr>\n",
       "      <th>9</th>\n",
       "      <td>cdf1a7a6f5c9b0db543371f9e4bd127b451c09c9</td>\n",
       "      <td>MiPasajefy</td>\n",
       "      <td>cbf1c8b09cd5b549416d49d220a40cbd317f952e</td>\n",
       "      <td>115.84</td>\n",
       "      <td>paid</td>\n",
       "      <td>2019-01-22</td>\n",
       "      <td>2019-01-22</td>\n",
       "    </tr>\n",
       "    <tr>\n",
       "      <th>11</th>\n",
       "      <td>90820e39fa6aa60555edb6855a6c83e59a9ba271</td>\n",
       "      <td>MiPasajefy</td>\n",
       "      <td>cbf1c8b09cd5b549416d49d220a40cbd317f952e</td>\n",
       "      <td>81.33</td>\n",
       "      <td>paid</td>\n",
       "      <td>2019-01-12</td>\n",
       "      <td>2019-01-12</td>\n",
       "    </tr>\n",
       "    <tr>\n",
       "      <th>12</th>\n",
       "      <td>315fb708b31d2b98da63db63481550cf01087c75</td>\n",
       "      <td>MiPasajefy</td>\n",
       "      <td>cbf1c8b09cd5b549416d49d220a40cbd317f952e</td>\n",
       "      <td>230.27</td>\n",
       "      <td>paid</td>\n",
       "      <td>2019-03-29</td>\n",
       "      <td>2019-03-29</td>\n",
       "    </tr>\n",
       "    <tr>\n",
       "      <th>...</th>\n",
       "      <td>...</td>\n",
       "      <td>...</td>\n",
       "      <td>...</td>\n",
       "      <td>...</td>\n",
       "      <td>...</td>\n",
       "      <td>...</td>\n",
       "      <td>...</td>\n",
       "    </tr>\n",
       "    <tr>\n",
       "      <th>9995</th>\n",
       "      <td>4907c36c037bfa4874047e14f722329016dc3908</td>\n",
       "      <td>MiPasajefy</td>\n",
       "      <td>cbf1c8b09cd5b549416d49d220a40cbd317f952e</td>\n",
       "      <td>59.88</td>\n",
       "      <td>paid</td>\n",
       "      <td>2019-03-14</td>\n",
       "      <td>2019-03-14</td>\n",
       "    </tr>\n",
       "    <tr>\n",
       "      <th>9996</th>\n",
       "      <td>ef9ec85887418d2ccf220686312cfc4c615665d5</td>\n",
       "      <td>MiPasajefy</td>\n",
       "      <td>cbf1c8b09cd5b549416d49d220a40cbd317f952e</td>\n",
       "      <td>23.05</td>\n",
       "      <td>paid</td>\n",
       "      <td>2019-02-20</td>\n",
       "      <td>2019-02-20</td>\n",
       "    </tr>\n",
       "    <tr>\n",
       "      <th>9997</th>\n",
       "      <td>50bb3950ecde94ca3e07853003a11a413508da36</td>\n",
       "      <td>MiPasajefy</td>\n",
       "      <td>cbf1c8b09cd5b549416d49d220a40cbd317f952e</td>\n",
       "      <td>20.50</td>\n",
       "      <td>paid</td>\n",
       "      <td>2019-03-19</td>\n",
       "      <td>2019-03-19</td>\n",
       "    </tr>\n",
       "    <tr>\n",
       "      <th>9998</th>\n",
       "      <td>1b2c4e503a4a952064b70369cf8e72937c720474</td>\n",
       "      <td>MiPasajefy</td>\n",
       "      <td>cbf1c8b09cd5b549416d49d220a40cbd317f952e</td>\n",
       "      <td>81.42</td>\n",
       "      <td>paid</td>\n",
       "      <td>2019-03-10</td>\n",
       "      <td>2019-03-10</td>\n",
       "    </tr>\n",
       "    <tr>\n",
       "      <th>9999</th>\n",
       "      <td>4e85c4eac968c9465fc8d34bcd4968ac019fa850</td>\n",
       "      <td>MiPasajefy</td>\n",
       "      <td>cbf1c8b09cd5b549416d49d220a40cbd317f952e</td>\n",
       "      <td>33.45</td>\n",
       "      <td>paid</td>\n",
       "      <td>2019-03-16</td>\n",
       "      <td>2019-03-17</td>\n",
       "    </tr>\n",
       "  </tbody>\n",
       "</table>\n",
       "<p>5892 rows × 7 columns</p>\n",
       "</div>"
      ],
      "text/plain": [
       "                                            id        name  \\\n",
       "3     81633ba310a50b673efd469c37139576982901aa  MiPasajefy   \n",
       "4     6ccfc4c24e788e4bca448df343698782db6b0c0b  MiPasajefy   \n",
       "9     cdf1a7a6f5c9b0db543371f9e4bd127b451c09c9  MiPasajefy   \n",
       "11    90820e39fa6aa60555edb6855a6c83e59a9ba271  MiPasajefy   \n",
       "12    315fb708b31d2b98da63db63481550cf01087c75  MiPasajefy   \n",
       "...                                        ...         ...   \n",
       "9995  4907c36c037bfa4874047e14f722329016dc3908  MiPasajefy   \n",
       "9996  ef9ec85887418d2ccf220686312cfc4c615665d5  MiPasajefy   \n",
       "9997  50bb3950ecde94ca3e07853003a11a413508da36  MiPasajefy   \n",
       "9998  1b2c4e503a4a952064b70369cf8e72937c720474  MiPasajefy   \n",
       "9999  4e85c4eac968c9465fc8d34bcd4968ac019fa850  MiPasajefy   \n",
       "\n",
       "                                    company_id  amount status  created_at  \\\n",
       "3     cbf1c8b09cd5b549416d49d220a40cbd317f952e  102.61   paid  2019-02-27   \n",
       "4     cbf1c8b09cd5b549416d49d220a40cbd317f952e  184.49   paid  2019-02-05   \n",
       "9     cbf1c8b09cd5b549416d49d220a40cbd317f952e  115.84   paid  2019-01-22   \n",
       "11    cbf1c8b09cd5b549416d49d220a40cbd317f952e   81.33   paid  2019-01-12   \n",
       "12    cbf1c8b09cd5b549416d49d220a40cbd317f952e  230.27   paid  2019-03-29   \n",
       "...                                        ...     ...    ...         ...   \n",
       "9995  cbf1c8b09cd5b549416d49d220a40cbd317f952e   59.88   paid  2019-03-14   \n",
       "9996  cbf1c8b09cd5b549416d49d220a40cbd317f952e   23.05   paid  2019-02-20   \n",
       "9997  cbf1c8b09cd5b549416d49d220a40cbd317f952e   20.50   paid  2019-03-19   \n",
       "9998  cbf1c8b09cd5b549416d49d220a40cbd317f952e   81.42   paid  2019-03-10   \n",
       "9999  cbf1c8b09cd5b549416d49d220a40cbd317f952e   33.45   paid  2019-03-16   \n",
       "\n",
       "         paid_at  \n",
       "3     2019-02-27  \n",
       "4     2019-02-05  \n",
       "9     2019-01-22  \n",
       "11    2019-01-12  \n",
       "12    2019-03-29  \n",
       "...          ...  \n",
       "9995  2019-03-14  \n",
       "9996  2019-02-20  \n",
       "9997  2019-03-19  \n",
       "9998  2019-03-10  \n",
       "9999  2019-03-17  \n",
       "\n",
       "[5892 rows x 7 columns]"
      ]
     },
     "execution_count": 1761,
     "metadata": {},
     "output_type": "execute_result"
    }
   ],
   "source": [
    "df[df['status']=='paid']"
   ]
  },
  {
   "cell_type": "code",
   "execution_count": 1762,
   "metadata": {},
   "outputs": [
    {
     "data": {
      "text/html": [
       "<div>\n",
       "<style scoped>\n",
       "    .dataframe tbody tr th:only-of-type {\n",
       "        vertical-align: middle;\n",
       "    }\n",
       "\n",
       "    .dataframe tbody tr th {\n",
       "        vertical-align: top;\n",
       "    }\n",
       "\n",
       "    .dataframe thead th {\n",
       "        text-align: right;\n",
       "    }\n",
       "</style>\n",
       "<table border=\"1\" class=\"dataframe\">\n",
       "  <thead>\n",
       "    <tr style=\"text-align: right;\">\n",
       "      <th></th>\n",
       "      <th>id</th>\n",
       "      <th>name</th>\n",
       "      <th>company_id</th>\n",
       "      <th>amount</th>\n",
       "      <th>status</th>\n",
       "      <th>created_at</th>\n",
       "      <th>paid_at</th>\n",
       "    </tr>\n",
       "  </thead>\n",
       "  <tbody>\n",
       "    <tr>\n",
       "      <th>1308</th>\n",
       "      <td>9c99ef0dc472daaf059be45c8dd24a3781fd1af7</td>\n",
       "      <td>MiPasajefy</td>\n",
       "      <td>cbf1c8b09cd5b549416d49d220a40cbd317f952e</td>\n",
       "      <td>82.36</td>\n",
       "      <td>p&amp;0x3fid</td>\n",
       "      <td>2019-03-14</td>\n",
       "      <td>2019-03-14</td>\n",
       "    </tr>\n",
       "  </tbody>\n",
       "</table>\n",
       "</div>"
      ],
      "text/plain": [
       "                                            id        name  \\\n",
       "1308  9c99ef0dc472daaf059be45c8dd24a3781fd1af7  MiPasajefy   \n",
       "\n",
       "                                    company_id  amount    status  created_at  \\\n",
       "1308  cbf1c8b09cd5b549416d49d220a40cbd317f952e   82.36  p&0x3fid  2019-03-14   \n",
       "\n",
       "         paid_at  \n",
       "1308  2019-03-14  "
      ]
     },
     "execution_count": 1762,
     "metadata": {},
     "output_type": "execute_result"
    }
   ],
   "source": [
    "df[df['status']=='p&0x3fid']"
   ]
  },
  {
   "cell_type": "code",
   "execution_count": 1763,
   "metadata": {},
   "outputs": [
    {
     "data": {
      "text/html": [
       "<div>\n",
       "<style scoped>\n",
       "    .dataframe tbody tr th:only-of-type {\n",
       "        vertical-align: middle;\n",
       "    }\n",
       "\n",
       "    .dataframe tbody tr th {\n",
       "        vertical-align: top;\n",
       "    }\n",
       "\n",
       "    .dataframe thead th {\n",
       "        text-align: right;\n",
       "    }\n",
       "</style>\n",
       "<table border=\"1\" class=\"dataframe\">\n",
       "  <thead>\n",
       "    <tr style=\"text-align: right;\">\n",
       "      <th></th>\n",
       "      <th>id</th>\n",
       "      <th>name</th>\n",
       "      <th>company_id</th>\n",
       "      <th>amount</th>\n",
       "      <th>status</th>\n",
       "      <th>created_at</th>\n",
       "      <th>paid_at</th>\n",
       "    </tr>\n",
       "  </thead>\n",
       "  <tbody>\n",
       "    <tr>\n",
       "      <th>3510</th>\n",
       "      <td>8ee1ad3b1736f801145e18ecf54e346c006e43d5</td>\n",
       "      <td>MiPasajefy</td>\n",
       "      <td>cbf1c8b09cd5b549416d49d220a40cbd317f952e</td>\n",
       "      <td>146.74</td>\n",
       "      <td>0xFFFF</td>\n",
       "      <td>2019-02-03</td>\n",
       "      <td>2019-02-03</td>\n",
       "    </tr>\n",
       "  </tbody>\n",
       "</table>\n",
       "</div>"
      ],
      "text/plain": [
       "                                            id        name  \\\n",
       "3510  8ee1ad3b1736f801145e18ecf54e346c006e43d5  MiPasajefy   \n",
       "\n",
       "                                    company_id  amount  status  created_at  \\\n",
       "3510  cbf1c8b09cd5b549416d49d220a40cbd317f952e  146.74  0xFFFF  2019-02-03   \n",
       "\n",
       "         paid_at  \n",
       "3510  2019-02-03  "
      ]
     },
     "execution_count": 1763,
     "metadata": {},
     "output_type": "execute_result"
    }
   ],
   "source": [
    "df[df['status']=='0xFFFF']"
   ]
  },
  {
   "attachments": {},
   "cell_type": "markdown",
   "metadata": {},
   "source": [
    "Como podemos observar, ambas filas que tienen el nombdre del estatus alterado, tienen la caracteristica del estatus \"paid\", por ende , modificamos su valor para que sea \"paid\""
   ]
  },
  {
   "cell_type": "code",
   "execution_count": 1764,
   "metadata": {},
   "outputs": [],
   "source": [
    "df['status'] = df['status'].replace(['0xFFFF'], 'paid')\n",
    "df['status'] = df['status'].replace(['p&0x3fid'], 'paid')\n"
   ]
  },
  {
   "attachments": {},
   "cell_type": "markdown",
   "metadata": {},
   "source": [
    "Ahora, ya tenemos los estatus correctos"
   ]
  },
  {
   "cell_type": "code",
   "execution_count": 1765,
   "metadata": {},
   "outputs": [
    {
     "data": {
      "text/plain": [
       "status\n",
       "charged_back            21\n",
       "expired                  8\n",
       "paid                  5894\n",
       "partially_refunded       1\n",
       "pending_payment       1881\n",
       "pre_authorized          18\n",
       "refunded                93\n",
       "voided                2084\n",
       "dtype: int64"
      ]
     },
     "execution_count": 1765,
     "metadata": {},
     "output_type": "execute_result"
    }
   ],
   "source": [
    "df.pivot_table(index = ['status'], aggfunc ='size')"
   ]
  },
  {
   "attachments": {},
   "cell_type": "markdown",
   "metadata": {},
   "source": [
    "## Buscamos si existe alguna anomalia en created_at"
   ]
  },
  {
   "cell_type": "code",
   "execution_count": 1766,
   "metadata": {},
   "outputs": [
    {
     "data": {
      "text/html": [
       "<div>\n",
       "<style scoped>\n",
       "    .dataframe tbody tr th:only-of-type {\n",
       "        vertical-align: middle;\n",
       "    }\n",
       "\n",
       "    .dataframe tbody tr th {\n",
       "        vertical-align: top;\n",
       "    }\n",
       "\n",
       "    .dataframe thead th {\n",
       "        text-align: right;\n",
       "    }\n",
       "</style>\n",
       "<table border=\"1\" class=\"dataframe\">\n",
       "  <thead>\n",
       "    <tr style=\"text-align: right;\">\n",
       "      <th></th>\n",
       "      <th>id</th>\n",
       "      <th>name</th>\n",
       "      <th>company_id</th>\n",
       "      <th>amount</th>\n",
       "      <th>status</th>\n",
       "      <th>created_at</th>\n",
       "      <th>paid_at</th>\n",
       "    </tr>\n",
       "  </thead>\n",
       "  <tbody>\n",
       "  </tbody>\n",
       "</table>\n",
       "</div>"
      ],
      "text/plain": [
       "Empty DataFrame\n",
       "Columns: [id, name, company_id, amount, status, created_at, paid_at]\n",
       "Index: []"
      ]
     },
     "execution_count": 1766,
     "metadata": {},
     "output_type": "execute_result"
    }
   ],
   "source": [
    "df[df['created_at'].isnull()]"
   ]
  },
  {
   "cell_type": "code",
   "execution_count": 1767,
   "metadata": {},
   "outputs": [
    {
     "data": {
      "text/plain": [
       "paid_at\n",
       "2019-01-01    17\n",
       "2019-01-02    45\n",
       "2019-01-03    38\n",
       "2019-01-04    53\n",
       "2019-01-05    37\n",
       "              ..\n",
       "2019-05-16    49\n",
       "2019-05-17    54\n",
       "2019-05-18    54\n",
       "2019-05-19    26\n",
       "2019-05-20     3\n",
       "Length: 140, dtype: int64"
      ]
     },
     "execution_count": 1767,
     "metadata": {},
     "output_type": "execute_result"
    }
   ],
   "source": [
    "df.pivot_table(index = ['paid_at'], aggfunc ='size')"
   ]
  },
  {
   "cell_type": "code",
   "execution_count": 1768,
   "metadata": {},
   "outputs": [
    {
     "data": {
      "text/plain": [
       "id             object\n",
       "name           object\n",
       "company_id     object\n",
       "amount        float64\n",
       "status         object\n",
       "created_at     object\n",
       "paid_at        object\n",
       "dtype: object"
      ]
     },
     "execution_count": 1768,
     "metadata": {},
     "output_type": "execute_result"
    }
   ],
   "source": [
    "\n",
    "df['created_at'] = pd.to_datetime(df['created_at'])\n",
    "df['created_at'] = df['created_at'].dt.date\n",
    "\n",
    "df.dtypes"
   ]
  },
  {
   "attachments": {},
   "cell_type": "markdown",
   "metadata": {},
   "source": [
    "## Buscamos si existe alguna anomalia en paid_at"
   ]
  },
  {
   "cell_type": "code",
   "execution_count": 1769,
   "metadata": {},
   "outputs": [
    {
     "data": {
      "text/html": [
       "<div>\n",
       "<style scoped>\n",
       "    .dataframe tbody tr th:only-of-type {\n",
       "        vertical-align: middle;\n",
       "    }\n",
       "\n",
       "    .dataframe tbody tr th {\n",
       "        vertical-align: top;\n",
       "    }\n",
       "\n",
       "    .dataframe thead th {\n",
       "        text-align: right;\n",
       "    }\n",
       "</style>\n",
       "<table border=\"1\" class=\"dataframe\">\n",
       "  <thead>\n",
       "    <tr style=\"text-align: right;\">\n",
       "      <th></th>\n",
       "      <th>id</th>\n",
       "      <th>name</th>\n",
       "      <th>company_id</th>\n",
       "      <th>amount</th>\n",
       "      <th>status</th>\n",
       "      <th>created_at</th>\n",
       "      <th>paid_at</th>\n",
       "    </tr>\n",
       "  </thead>\n",
       "  <tbody>\n",
       "    <tr>\n",
       "      <th>0</th>\n",
       "      <td>48ba4bdbfb56ceebb32f2bd0263e759be942af3d</td>\n",
       "      <td>MiPasajefy</td>\n",
       "      <td>cbf1c8b09cd5b549416d49d220a40cbd317f952e</td>\n",
       "      <td>3.00</td>\n",
       "      <td>voided</td>\n",
       "      <td>2019-03-19</td>\n",
       "      <td>NaN</td>\n",
       "    </tr>\n",
       "    <tr>\n",
       "      <th>1</th>\n",
       "      <td>05fc6f5ac66b6ee7e4253aa5d0c2299eb47aaaf4</td>\n",
       "      <td>MiPasajefy</td>\n",
       "      <td>cbf1c8b09cd5b549416d49d220a40cbd317f952e</td>\n",
       "      <td>3.00</td>\n",
       "      <td>pending_payment</td>\n",
       "      <td>2019-05-06</td>\n",
       "      <td>NaN</td>\n",
       "    </tr>\n",
       "    <tr>\n",
       "      <th>2</th>\n",
       "      <td>2cdce231c1fc6a2061bfa2f1d978351fe217245d</td>\n",
       "      <td>MiPasajefy</td>\n",
       "      <td>cbf1c8b09cd5b549416d49d220a40cbd317f952e</td>\n",
       "      <td>3.00</td>\n",
       "      <td>voided</td>\n",
       "      <td>2019-02-22</td>\n",
       "      <td>NaN</td>\n",
       "    </tr>\n",
       "    <tr>\n",
       "      <th>5</th>\n",
       "      <td>b25f2ff15c24ea881e676be772f4dd99891ad188</td>\n",
       "      <td>MiPasajefy</td>\n",
       "      <td>cbf1c8b09cd5b549416d49d220a40cbd317f952e</td>\n",
       "      <td>85.27</td>\n",
       "      <td>pending_payment</td>\n",
       "      <td>2019-01-04</td>\n",
       "      <td>NaN</td>\n",
       "    </tr>\n",
       "    <tr>\n",
       "      <th>6</th>\n",
       "      <td>4f9db76960dcdf6b7e2d7d71b11519e49d7b1179</td>\n",
       "      <td>MiPasajefy</td>\n",
       "      <td>cbf1c8b09cd5b549416d49d220a40cbd317f952e</td>\n",
       "      <td>41.00</td>\n",
       "      <td>pre_authorized</td>\n",
       "      <td>2019-05-04</td>\n",
       "      <td>NaN</td>\n",
       "    </tr>\n",
       "    <tr>\n",
       "      <th>...</th>\n",
       "      <td>...</td>\n",
       "      <td>...</td>\n",
       "      <td>...</td>\n",
       "      <td>...</td>\n",
       "      <td>...</td>\n",
       "      <td>...</td>\n",
       "      <td>...</td>\n",
       "    </tr>\n",
       "    <tr>\n",
       "      <th>9983</th>\n",
       "      <td>b7243030b5ecb367fed8f42b5961e6cf39532a63</td>\n",
       "      <td>MiPasajefy</td>\n",
       "      <td>cbf1c8b09cd5b549416d49d220a40cbd317f952e</td>\n",
       "      <td>30.00</td>\n",
       "      <td>pending_payment</td>\n",
       "      <td>2019-03-01</td>\n",
       "      <td>NaN</td>\n",
       "    </tr>\n",
       "    <tr>\n",
       "      <th>9986</th>\n",
       "      <td>6567f52b0e2c912234984fabdef6747b0d8c20c5</td>\n",
       "      <td>MiPasajefy</td>\n",
       "      <td>cbf1c8b09cd5b549416d49d220a40cbd317f952e</td>\n",
       "      <td>3.00</td>\n",
       "      <td>voided</td>\n",
       "      <td>2019-04-12</td>\n",
       "      <td>NaN</td>\n",
       "    </tr>\n",
       "    <tr>\n",
       "      <th>9987</th>\n",
       "      <td>18917f0b8f9d3ada2ed5d0f583d635211012d9b5</td>\n",
       "      <td>MiPasajefy</td>\n",
       "      <td>cbf1c8b09cd5b549416d49d220a40cbd317f952e</td>\n",
       "      <td>3.00</td>\n",
       "      <td>voided</td>\n",
       "      <td>2019-01-08</td>\n",
       "      <td>NaN</td>\n",
       "    </tr>\n",
       "    <tr>\n",
       "      <th>9990</th>\n",
       "      <td>e769564fa450e60a62d358e4d72804d361ee017f</td>\n",
       "      <td>MiPasajefy</td>\n",
       "      <td>cbf1c8b09cd5b549416d49d220a40cbd317f952e</td>\n",
       "      <td>3.00</td>\n",
       "      <td>voided</td>\n",
       "      <td>2019-05-12</td>\n",
       "      <td>NaN</td>\n",
       "    </tr>\n",
       "    <tr>\n",
       "      <th>9992</th>\n",
       "      <td>0b96a41de5bb85cb386c1113dbd81ee37d5c3647</td>\n",
       "      <td>MiPasajefy</td>\n",
       "      <td>cbf1c8b09cd5b549416d49d220a40cbd317f952e</td>\n",
       "      <td>72.09</td>\n",
       "      <td>pending_payment</td>\n",
       "      <td>2019-03-24</td>\n",
       "      <td>NaN</td>\n",
       "    </tr>\n",
       "  </tbody>\n",
       "</table>\n",
       "<p>3991 rows × 7 columns</p>\n",
       "</div>"
      ],
      "text/plain": [
       "                                            id        name  \\\n",
       "0     48ba4bdbfb56ceebb32f2bd0263e759be942af3d  MiPasajefy   \n",
       "1     05fc6f5ac66b6ee7e4253aa5d0c2299eb47aaaf4  MiPasajefy   \n",
       "2     2cdce231c1fc6a2061bfa2f1d978351fe217245d  MiPasajefy   \n",
       "5     b25f2ff15c24ea881e676be772f4dd99891ad188  MiPasajefy   \n",
       "6     4f9db76960dcdf6b7e2d7d71b11519e49d7b1179  MiPasajefy   \n",
       "...                                        ...         ...   \n",
       "9983  b7243030b5ecb367fed8f42b5961e6cf39532a63  MiPasajefy   \n",
       "9986  6567f52b0e2c912234984fabdef6747b0d8c20c5  MiPasajefy   \n",
       "9987  18917f0b8f9d3ada2ed5d0f583d635211012d9b5  MiPasajefy   \n",
       "9990  e769564fa450e60a62d358e4d72804d361ee017f  MiPasajefy   \n",
       "9992  0b96a41de5bb85cb386c1113dbd81ee37d5c3647  MiPasajefy   \n",
       "\n",
       "                                    company_id  amount           status  \\\n",
       "0     cbf1c8b09cd5b549416d49d220a40cbd317f952e    3.00           voided   \n",
       "1     cbf1c8b09cd5b549416d49d220a40cbd317f952e    3.00  pending_payment   \n",
       "2     cbf1c8b09cd5b549416d49d220a40cbd317f952e    3.00           voided   \n",
       "5     cbf1c8b09cd5b549416d49d220a40cbd317f952e   85.27  pending_payment   \n",
       "6     cbf1c8b09cd5b549416d49d220a40cbd317f952e   41.00   pre_authorized   \n",
       "...                                        ...     ...              ...   \n",
       "9983  cbf1c8b09cd5b549416d49d220a40cbd317f952e   30.00  pending_payment   \n",
       "9986  cbf1c8b09cd5b549416d49d220a40cbd317f952e    3.00           voided   \n",
       "9987  cbf1c8b09cd5b549416d49d220a40cbd317f952e    3.00           voided   \n",
       "9990  cbf1c8b09cd5b549416d49d220a40cbd317f952e    3.00           voided   \n",
       "9992  cbf1c8b09cd5b549416d49d220a40cbd317f952e   72.09  pending_payment   \n",
       "\n",
       "      created_at paid_at  \n",
       "0     2019-03-19     NaN  \n",
       "1     2019-05-06     NaN  \n",
       "2     2019-02-22     NaN  \n",
       "5     2019-01-04     NaN  \n",
       "6     2019-05-04     NaN  \n",
       "...          ...     ...  \n",
       "9983  2019-03-01     NaN  \n",
       "9986  2019-04-12     NaN  \n",
       "9987  2019-01-08     NaN  \n",
       "9990  2019-05-12     NaN  \n",
       "9992  2019-03-24     NaN  \n",
       "\n",
       "[3991 rows x 7 columns]"
      ]
     },
     "execution_count": 1769,
     "metadata": {},
     "output_type": "execute_result"
    }
   ],
   "source": [
    "df[df['paid_at'].isnull()]"
   ]
  },
  {
   "attachments": {},
   "cell_type": "markdown",
   "metadata": {},
   "source": [
    "Podemos observar que tenmos muchos registros que estan en nulo, por loq eu pondremos una muy antigua, casi riducla, de esta forma sabremos que aun no han pagado,la fecha por convenio sera 1999/12/12"
   ]
  },
  {
   "cell_type": "code",
   "execution_count": 1770,
   "metadata": {},
   "outputs": [
    {
     "data": {
      "text/html": [
       "<div>\n",
       "<style scoped>\n",
       "    .dataframe tbody tr th:only-of-type {\n",
       "        vertical-align: middle;\n",
       "    }\n",
       "\n",
       "    .dataframe tbody tr th {\n",
       "        vertical-align: top;\n",
       "    }\n",
       "\n",
       "    .dataframe thead th {\n",
       "        text-align: right;\n",
       "    }\n",
       "</style>\n",
       "<table border=\"1\" class=\"dataframe\">\n",
       "  <thead>\n",
       "    <tr style=\"text-align: right;\">\n",
       "      <th></th>\n",
       "      <th>id</th>\n",
       "      <th>name</th>\n",
       "      <th>company_id</th>\n",
       "      <th>amount</th>\n",
       "      <th>status</th>\n",
       "      <th>created_at</th>\n",
       "      <th>paid_at</th>\n",
       "    </tr>\n",
       "  </thead>\n",
       "  <tbody>\n",
       "  </tbody>\n",
       "</table>\n",
       "</div>"
      ],
      "text/plain": [
       "Empty DataFrame\n",
       "Columns: [id, name, company_id, amount, status, created_at, paid_at]\n",
       "Index: []"
      ]
     },
     "execution_count": 1770,
     "metadata": {},
     "output_type": "execute_result"
    }
   ],
   "source": [
    "df['paid_at'].fillna('1999-12-12',inplace=True)\n",
    "df[df['paid_at']=='12-12-12']"
   ]
  },
  {
   "attachments": {},
   "cell_type": "markdown",
   "metadata": {},
   "source": [
    "Ahora ya tenmos una fecha que sabemos que significa lo mismo que nulo."
   ]
  },
  {
   "attachments": {},
   "cell_type": "markdown",
   "metadata": {},
   "source": [
    "Verificamos si hay solo fechas en la columna"
   ]
  },
  {
   "cell_type": "code",
   "execution_count": 1771,
   "metadata": {},
   "outputs": [
    {
     "data": {
      "text/plain": [
       "id             object\n",
       "name           object\n",
       "company_id     object\n",
       "amount        float64\n",
       "status         object\n",
       "created_at     object\n",
       "paid_at        object\n",
       "dtype: object"
      ]
     },
     "execution_count": 1771,
     "metadata": {},
     "output_type": "execute_result"
    }
   ],
   "source": [
    "\n",
    "df['paid_at'] = pd.to_datetime(df['paid_at'])\n",
    "df['paid_at'] = df['paid_at'].dt.date\n",
    "\n",
    "df.dtypes"
   ]
  },
  {
   "attachments": {},
   "cell_type": "markdown",
   "metadata": {},
   "source": [
    "# Transformar los id y company_id en un varchar(24 NOT NULL)\n",
    "\n",
    "Para transformar los id, usaremos blake2b, para hacer un hash unico para cada id y un hash unico para cada company_id, ambos con un largo de 24 caracteres."
   ]
  },
  {
   "cell_type": "code",
   "execution_count": 1772,
   "metadata": {},
   "outputs": [],
   "source": [
    "def IDHASH(id):\n",
    "    id_bytes=id.encode()\n",
    "    h=blake2b(digest_size=12)\n",
    "    h.update(id_bytes)\n",
    "    #print(len(h.hexdigest()))\n",
    "    return h.hexdigest()\n",
    "\n",
    "df['db_id']=df['id'].apply(IDHASH)\n",
    "df['db_company_id']=df['company_id'].apply(IDHASH)"
   ]
  },
  {
   "attachments": {},
   "cell_type": "markdown",
   "metadata": {},
   "source": [
    "Ahora debemos tener el numero de db_company_id y names"
   ]
  },
  {
   "cell_type": "code",
   "execution_count": 1773,
   "metadata": {},
   "outputs": [
    {
     "data": {
      "text/plain": [
       "name            db_company_id           \n",
       "MiPasajefy      214e15c60cf3d66b79562923    9904\n",
       "Muebles chidos  f52549e093bca421285219df      96\n",
       "dtype: int64"
      ]
     },
     "execution_count": 1773,
     "metadata": {},
     "output_type": "execute_result"
    }
   ],
   "source": [
    "df.pivot_table(index = ['name','db_company_id'], aggfunc ='size')"
   ]
  },
  {
   "attachments": {},
   "cell_type": "markdown",
   "metadata": {},
   "source": [
    "Asi mismo, tenemos que tener la misma cantidad de id y db_id"
   ]
  },
  {
   "cell_type": "code",
   "execution_count": 1774,
   "metadata": {},
   "outputs": [
    {
     "data": {
      "text/plain": [
       "id                                        db_id                   \n",
       "0000d8d9d1cc40ec1fddc849fccf2bf801cb8ec7  c4a594051ee46c8bd0984620    1\n",
       "0008c6c98fa03633ac39c5af4418df778b9a290b  696b4adf16368c3d70cc20e5    1\n",
       "0014b4795f8f3b7166dabedb3030e0b55f81dd22  4dc97d8089abc96fe82da583    1\n",
       "00166e87789da128e7003865becffc2ebc3e69c6  515a02ad2f61181c1345e646    1\n",
       "001e3d6bb05dccc7577d10deb5f12cc368c05bcc  2d5f53455223be590ac0370b    1\n",
       "                                                                     ..\n",
       "ffd50b0c4224ea33369dbc0bdf1ae72e614a56ef  3d7234e1dd222da77a5fd17a    1\n",
       "ffe2c0899fb1a4c526bf79b52311da91799df858  29879443747be3396372d656    1\n",
       "ffe66386266b4e0928bb523dbf8de74ab22bdd76  a5ad446dd8ed7ebd72b66313    1\n",
       "ffecad714275b75e2a4dc049d0017fd45cee0ba7  26edea853fc9903cef874125    1\n",
       "ffee16f1b4edfb13577d14b8125632115e6f9a8a  2646ac810fb3eaaedeabd1d0    1\n",
       "Length: 10000, dtype: int64"
      ]
     },
     "execution_count": 1774,
     "metadata": {},
     "output_type": "execute_result"
    }
   ],
   "source": [
    "df.pivot_table(index = ['id','db_id'], aggfunc ='size')"
   ]
  },
  {
   "cell_type": "code",
   "execution_count": 1775,
   "metadata": {},
   "outputs": [
    {
     "data": {
      "text/plain": [
       "db_id                     id                                      \n",
       "00032df5d1a72d1944eaab63  78af7f64a2264ecf8b349607f53b2c239b2b5fe5    1\n",
       "000ca98e5d552931082662d2  2039e9e45ce5464af579ece287cae621876d48ab    1\n",
       "00110a871a564139bef2fc8c  fc7e4075c01baa1a73315050e9d5105784395459    1\n",
       "00180976e2ddc844bf282c94  6f52e27befdd6f1f6bab7784112d8feb1f88fed7    1\n",
       "001de12a38a586c7ab76d939  1195272a444354432c09d4d4351b92e34da47b4d    1\n",
       "                                                                     ..\n",
       "ffd5c2bc300d8eea5b0d3ba3  0509a5aa5abd54cc211b12e9964a9568c8554283    1\n",
       "ffe35637783de64c64174beb  3f466427e4069f3e615ed0ec475ae7a41a96cf00    1\n",
       "ffe3a45a2344fe4856508aa5  0083f3c78dabddf1d8efbed0e80731908cf6bb09    1\n",
       "ffeb4a277a73e51207664a24  5cdccb51221d2efa3c9b29850a871c39bc074fbb    1\n",
       "fffdba1d60ad051da33e2e2b  720452cb219057205d516bbc2d7f2c018cb23830    1\n",
       "Length: 10000, dtype: int64"
      ]
     },
     "execution_count": 1775,
     "metadata": {},
     "output_type": "execute_result"
    }
   ],
   "source": [
    "df.pivot_table(index = ['db_id','id'], aggfunc ='size')"
   ]
  },
  {
   "attachments": {},
   "cell_type": "markdown",
   "metadata": {},
   "source": [
    "## Creamos un nuevo CSV con la informacion que necesitamos"
   ]
  },
  {
   "cell_type": "code",
   "execution_count": 1776,
   "metadata": {},
   "outputs": [],
   "source": [
    "df.to_csv(\"./NewData.csv\")"
   ]
  },
  {
   "cell_type": "code",
   "execution_count": 1777,
   "metadata": {},
   "outputs": [
    {
     "data": {
      "text/html": [
       "<div>\n",
       "<style scoped>\n",
       "    .dataframe tbody tr th:only-of-type {\n",
       "        vertical-align: middle;\n",
       "    }\n",
       "\n",
       "    .dataframe tbody tr th {\n",
       "        vertical-align: top;\n",
       "    }\n",
       "\n",
       "    .dataframe thead th {\n",
       "        text-align: right;\n",
       "    }\n",
       "</style>\n",
       "<table border=\"1\" class=\"dataframe\">\n",
       "  <thead>\n",
       "    <tr style=\"text-align: right;\">\n",
       "      <th></th>\n",
       "      <th>db_id</th>\n",
       "      <th>db_company_id</th>\n",
       "      <th>name</th>\n",
       "      <th>amount</th>\n",
       "      <th>status</th>\n",
       "      <th>created_at</th>\n",
       "      <th>paid_at</th>\n",
       "    </tr>\n",
       "  </thead>\n",
       "  <tbody>\n",
       "    <tr>\n",
       "      <th>0</th>\n",
       "      <td>5db5526f138308320aaac8c0</td>\n",
       "      <td>214e15c60cf3d66b79562923</td>\n",
       "      <td>MiPasajefy</td>\n",
       "      <td>3.00</td>\n",
       "      <td>voided</td>\n",
       "      <td>2019-03-19</td>\n",
       "      <td>1999-12-12</td>\n",
       "    </tr>\n",
       "    <tr>\n",
       "      <th>1</th>\n",
       "      <td>8186c5bfd7e422740f141bcf</td>\n",
       "      <td>214e15c60cf3d66b79562923</td>\n",
       "      <td>MiPasajefy</td>\n",
       "      <td>3.00</td>\n",
       "      <td>pending_payment</td>\n",
       "      <td>2019-05-06</td>\n",
       "      <td>1999-12-12</td>\n",
       "    </tr>\n",
       "    <tr>\n",
       "      <th>2</th>\n",
       "      <td>0db3e82aeeb18ad6f2e9c638</td>\n",
       "      <td>214e15c60cf3d66b79562923</td>\n",
       "      <td>MiPasajefy</td>\n",
       "      <td>3.00</td>\n",
       "      <td>voided</td>\n",
       "      <td>2019-02-22</td>\n",
       "      <td>1999-12-12</td>\n",
       "    </tr>\n",
       "    <tr>\n",
       "      <th>3</th>\n",
       "      <td>f99b8758e9985a4bd0ed8f71</td>\n",
       "      <td>214e15c60cf3d66b79562923</td>\n",
       "      <td>MiPasajefy</td>\n",
       "      <td>102.61</td>\n",
       "      <td>paid</td>\n",
       "      <td>2019-02-27</td>\n",
       "      <td>2019-02-27</td>\n",
       "    </tr>\n",
       "    <tr>\n",
       "      <th>4</th>\n",
       "      <td>7d32e2189ddc4b0111b9313b</td>\n",
       "      <td>214e15c60cf3d66b79562923</td>\n",
       "      <td>MiPasajefy</td>\n",
       "      <td>184.49</td>\n",
       "      <td>paid</td>\n",
       "      <td>2019-02-05</td>\n",
       "      <td>2019-02-05</td>\n",
       "    </tr>\n",
       "    <tr>\n",
       "      <th>...</th>\n",
       "      <td>...</td>\n",
       "      <td>...</td>\n",
       "      <td>...</td>\n",
       "      <td>...</td>\n",
       "      <td>...</td>\n",
       "      <td>...</td>\n",
       "      <td>...</td>\n",
       "    </tr>\n",
       "    <tr>\n",
       "      <th>9995</th>\n",
       "      <td>efed81381f2b12974b6be1f9</td>\n",
       "      <td>214e15c60cf3d66b79562923</td>\n",
       "      <td>MiPasajefy</td>\n",
       "      <td>59.88</td>\n",
       "      <td>paid</td>\n",
       "      <td>2019-03-14</td>\n",
       "      <td>2019-03-14</td>\n",
       "    </tr>\n",
       "    <tr>\n",
       "      <th>9996</th>\n",
       "      <td>a095b02dc3c7d455f9ba23f7</td>\n",
       "      <td>214e15c60cf3d66b79562923</td>\n",
       "      <td>MiPasajefy</td>\n",
       "      <td>23.05</td>\n",
       "      <td>paid</td>\n",
       "      <td>2019-02-20</td>\n",
       "      <td>2019-02-20</td>\n",
       "    </tr>\n",
       "    <tr>\n",
       "      <th>9997</th>\n",
       "      <td>f093f83de6aac881ea0f060b</td>\n",
       "      <td>214e15c60cf3d66b79562923</td>\n",
       "      <td>MiPasajefy</td>\n",
       "      <td>20.50</td>\n",
       "      <td>paid</td>\n",
       "      <td>2019-03-19</td>\n",
       "      <td>2019-03-19</td>\n",
       "    </tr>\n",
       "    <tr>\n",
       "      <th>9998</th>\n",
       "      <td>c189dc594fe0e114954f651f</td>\n",
       "      <td>214e15c60cf3d66b79562923</td>\n",
       "      <td>MiPasajefy</td>\n",
       "      <td>81.42</td>\n",
       "      <td>paid</td>\n",
       "      <td>2019-03-10</td>\n",
       "      <td>2019-03-10</td>\n",
       "    </tr>\n",
       "    <tr>\n",
       "      <th>9999</th>\n",
       "      <td>16b8162f405749adadeea732</td>\n",
       "      <td>214e15c60cf3d66b79562923</td>\n",
       "      <td>MiPasajefy</td>\n",
       "      <td>33.45</td>\n",
       "      <td>paid</td>\n",
       "      <td>2019-03-16</td>\n",
       "      <td>2019-03-17</td>\n",
       "    </tr>\n",
       "  </tbody>\n",
       "</table>\n",
       "<p>10000 rows × 7 columns</p>\n",
       "</div>"
      ],
      "text/plain": [
       "                         db_id             db_company_id        name  amount  \\\n",
       "0     5db5526f138308320aaac8c0  214e15c60cf3d66b79562923  MiPasajefy    3.00   \n",
       "1     8186c5bfd7e422740f141bcf  214e15c60cf3d66b79562923  MiPasajefy    3.00   \n",
       "2     0db3e82aeeb18ad6f2e9c638  214e15c60cf3d66b79562923  MiPasajefy    3.00   \n",
       "3     f99b8758e9985a4bd0ed8f71  214e15c60cf3d66b79562923  MiPasajefy  102.61   \n",
       "4     7d32e2189ddc4b0111b9313b  214e15c60cf3d66b79562923  MiPasajefy  184.49   \n",
       "...                        ...                       ...         ...     ...   \n",
       "9995  efed81381f2b12974b6be1f9  214e15c60cf3d66b79562923  MiPasajefy   59.88   \n",
       "9996  a095b02dc3c7d455f9ba23f7  214e15c60cf3d66b79562923  MiPasajefy   23.05   \n",
       "9997  f093f83de6aac881ea0f060b  214e15c60cf3d66b79562923  MiPasajefy   20.50   \n",
       "9998  c189dc594fe0e114954f651f  214e15c60cf3d66b79562923  MiPasajefy   81.42   \n",
       "9999  16b8162f405749adadeea732  214e15c60cf3d66b79562923  MiPasajefy   33.45   \n",
       "\n",
       "               status  created_at     paid_at  \n",
       "0              voided  2019-03-19  1999-12-12  \n",
       "1     pending_payment  2019-05-06  1999-12-12  \n",
       "2              voided  2019-02-22  1999-12-12  \n",
       "3                paid  2019-02-27  2019-02-27  \n",
       "4                paid  2019-02-05  2019-02-05  \n",
       "...               ...         ...         ...  \n",
       "9995             paid  2019-03-14  2019-03-14  \n",
       "9996             paid  2019-02-20  2019-02-20  \n",
       "9997             paid  2019-03-19  2019-03-19  \n",
       "9998             paid  2019-03-10  2019-03-10  \n",
       "9999             paid  2019-03-16  2019-03-17  \n",
       "\n",
       "[10000 rows x 7 columns]"
      ]
     },
     "execution_count": 1777,
     "metadata": {},
     "output_type": "execute_result"
    }
   ],
   "source": [
    "df[['db_id','db_company_id','name','amount','status','created_at','paid_at']]"
   ]
  }
 ],
 "metadata": {
  "kernelspec": {
   "display_name": "Python 3",
   "language": "python",
   "name": "python3"
  },
  "language_info": {
   "codemirror_mode": {
    "name": "ipython",
    "version": 3
   },
   "file_extension": ".py",
   "mimetype": "text/x-python",
   "name": "python",
   "nbconvert_exporter": "python",
   "pygments_lexer": "ipython3",
   "version": "3.11.0"
  },
  "orig_nbformat": 4,
  "vscode": {
   "interpreter": {
    "hash": "c261aea317cc0286b3b3261fbba9abdec21eaa57589985bb7a274bf54d6cc0a7"
   }
  }
 },
 "nbformat": 4,
 "nbformat_minor": 2
}
